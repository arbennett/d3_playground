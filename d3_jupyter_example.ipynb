{
 "cells": [
  {
   "cell_type": "markdown",
   "metadata": {},
   "source": [
    "# Embedding d3 in Jupyter notebooks\n",
    "\n",
    "First, we will have to have `ipywidgets` installed, so in your conda environment run\n",
    "\n",
    "```conda install ipywidgets```\n",
    "\n",
    "Then, we will import the necessary functionality and define a strange looking function whos usage will become necessary for rendering multiple plots."
   ]
  },
  {
   "cell_type": "code",
   "execution_count": 12,
   "metadata": {},
   "outputs": [],
   "source": [
    "import numpy as np\n",
    "from string import Template, ascii_uppercase\n",
    "from IPython.core.display import HTML\n",
    "\n",
    "def keep_count(f):\n",
    "    def wrapper(*args, **kwargs):\n",
    "        wrapper.count += 1\n",
    "        return f(*args, **kwargs)\n",
    "    wrapper.count = 0\n",
    "    return wrapper"
   ]
  },
  {
   "cell_type": "markdown",
   "metadata": {},
   "source": [
    "## Getting a pure Javascript plot to render\n",
    "\n",
    "Before we can get our Python data into these plots, it makes the most sense to get a pure Javascript verison to work.  This requires several pieces.  First, we will simply grab an example script from the d3 Gallery and embed it as a string. Then we will write the HTML wrapper as a string, which we will embed the Javascript into via the Python `Template` class. This provides a clean separation between the formatting and plotting portions."
   ]
  },
  {
   "cell_type": "code",
   "execution_count": 3,
   "metadata": {},
   "outputs": [],
   "source": [
    "JS_CODE1 = '''\n",
    "var letters = ['A', 'B', 'C', 'D', 'E', 'F', 'G'];\n",
    "var dataset = [244, 96, 21, 121, 167, 230, 77];\n",
    "var svgWidth = 800;\n",
    "var svgHeight = 300;\n",
    "\n",
    "var svg = d3.select('#chart_$COUNT')\n",
    "    .append(\"svg\")\n",
    "    .attr(\"width\", svgWidth)\n",
    "    .attr(\"height\", svgHeight)\n",
    "    .attr(\"class\", \"bar-chart\");\n",
    "       \n",
    "var barPadding = 5;\n",
    "var barWidth = (svgWidth / dataset.length);\n",
    "\n",
    "var barChart = svg.selectAll(\"rect\")\n",
    "    .data(dataset)\n",
    "    .enter()\n",
    "    .append(\"rect\")\n",
    "    .attr(\"class\", \"bar\")\n",
    "    .attr(\"y\", function(d) {\n",
    "        return svgHeight - d\n",
    "    })\n",
    "    .attr(\"height\", function(d) {\n",
    "        return d;\n",
    "    })\n",
    "    .attr(\"width\", barWidth - barPadding)\n",
    "    .attr(\"transform\", function (d, i) {\n",
    "         var translate = [barWidth * i, 0];\n",
    "         return \"translate(\"+ translate +\")\";\n",
    "    });\n",
    "'''"
   ]
  },
  {
   "cell_type": "markdown",
   "metadata": {},
   "source": [
    "Below is shown the template styling.  Note the `script` tag - this is where we do the actual plotting.  We make use of the `require.js` library, which is used on the backend of Jupyter itself.  Also note that the standard method of doing something like\n",
    "\n",
    "```html\n",
    "<script src=\"https://d3js.org/d3.v4.min\"></script>\n",
    "```\n",
    "\n",
    "will not work due to the way that D3 was written. The basic story is that the global `d3` namespace doesn't get exported."
   ]
  },
  {
   "cell_type": "code",
   "execution_count": 4,
   "metadata": {},
   "outputs": [],
   "source": [
    "@keep_count\n",
    "def draw_d3(js_code, style='', args={}):\n",
    "    wrapper = '''\n",
    "        <style>\n",
    "            $STYLE\n",
    "        </style>\n",
    "        <div id=chart_$COUNT></div>\n",
    "        <script>\n",
    "            require.config({paths: {d3: \"https://d3js.org/d3.v4.min\"}});\n",
    "            require([\"d3\"], function(d3){ \n",
    "                $JS_CODE\n",
    "            });\n",
    "        </script>\n",
    "        '''\n",
    "    sub_dict = {\n",
    "        'JS_CODE': js_code,\n",
    "        'STYLE': style,\n",
    "        'COUNT': draw_d3.count\n",
    "    }\n",
    "    sub_dict.update(args)\n",
    "    fill_wrap = Template(wrapper).substitute(sub_dict)\n",
    "    js_wrap = Template(fill_wrap).substitute(sub_dict)\n",
    "    return HTML(js_wrap)\n"
   ]
  },
  {
   "cell_type": "code",
   "execution_count": 5,
   "metadata": {
    "scrolled": false
   },
   "outputs": [
    {
     "data": {
      "text/html": [
       "\n",
       "        <style>\n",
       "            \n",
       "        </style>\n",
       "        <div id=chart_1></div>\n",
       "        <script>\n",
       "            require.config({paths: {d3: \"https://d3js.org/d3.v4.min\"}});\n",
       "            require([\"d3\"], function(d3){ \n",
       "                \n",
       "var letters = ['A', 'B', 'C', 'D', 'E', 'F', 'G'];\n",
       "var dataset = [244, 96, 21, 121, 167, 230, 77];\n",
       "var svgWidth = 800;\n",
       "var svgHeight = 300;\n",
       "\n",
       "var svg = d3.select('#chart_1')\n",
       "    .append(\"svg\")\n",
       "    .attr(\"width\", svgWidth)\n",
       "    .attr(\"height\", svgHeight)\n",
       "    .attr(\"class\", \"bar-chart\");\n",
       "       \n",
       "var barPadding = 5;\n",
       "var barWidth = (svgWidth / dataset.length);\n",
       "\n",
       "var barChart = svg.selectAll(\"rect\")\n",
       "    .data(dataset)\n",
       "    .enter()\n",
       "    .append(\"rect\")\n",
       "    .attr(\"class\", \"bar\")\n",
       "    .attr(\"y\", function(d) {\n",
       "        return svgHeight - d\n",
       "    })\n",
       "    .attr(\"height\", function(d) {\n",
       "        return d;\n",
       "    })\n",
       "    .attr(\"width\", barWidth - barPadding)\n",
       "    .attr(\"transform\", function (d, i) {\n",
       "         var translate = [barWidth * i, 0];\n",
       "         return \"translate(\"+ translate +\")\";\n",
       "    });\n",
       "\n",
       "            });\n",
       "        </script>\n",
       "        "
      ],
      "text/plain": [
       "<IPython.core.display.HTML object>"
      ]
     },
     "execution_count": 5,
     "metadata": {},
     "output_type": "execute_result"
    }
   ],
   "source": [
    "draw_d3(JS_CODE1)"
   ]
  },
  {
   "cell_type": "markdown",
   "metadata": {},
   "source": [
    "## Adding in Python data\n",
    "\n",
    "The addition of python data is accomplished in an easy, but hacky way.  We just serialize the data and string substitute it."
   ]
  },
  {
   "cell_type": "code",
   "execution_count": 6,
   "metadata": {},
   "outputs": [],
   "source": [
    "CSS = '''\n",
    "    .bar {\n",
    "      fill: steelblue;\n",
    "    }\n",
    "    .bar:hover {\n",
    "      fill: brown;\n",
    "    }\n",
    "    .axis--x path {\n",
    "      color: white;\n",
    "      display: none;\n",
    "    }\n",
    "'''\n",
    "\n",
    "JS_CODE2 = '''\n",
    "var letters = $LETTERS;\n",
    "var dataset = $DATA;\n",
    "var svgWidth = 800;\n",
    "var svgHeight = 300;\n",
    "\n",
    "var svg = d3.select('#chart_$COUNT')\n",
    "    .append(\"svg\")\n",
    "    .attr(\"width\", svgWidth)\n",
    "    .attr(\"height\", svgHeight)\n",
    "    .attr(\"class\", \"bar-chart\");\n",
    "       \n",
    "var barPadding = 5;\n",
    "var barWidth = (svgWidth / dataset.length);\n",
    "\n",
    "var barChart = svg.selectAll(\"rect\")\n",
    "    .data(dataset)\n",
    "    .enter()\n",
    "    .append(\"rect\")\n",
    "    .attr(\"class\", \"bar\")\n",
    "    .attr(\"y\", function(d) {\n",
    "        return svgHeight - d\n",
    "    })\n",
    "    .attr(\"height\", function(d) {\n",
    "        return d;\n",
    "    })\n",
    "    .attr(\"width\", barWidth - barPadding)\n",
    "    .attr(\"transform\", function (d, i) {\n",
    "         var translate = [barWidth * i, 0];\n",
    "         return \"translate(\"+ translate +\")\";\n",
    "    });\n",
    "'''\n"
   ]
  },
  {
   "cell_type": "code",
   "execution_count": 7,
   "metadata": {},
   "outputs": [
    {
     "data": {
      "text/html": [
       "\n",
       "        <style>\n",
       "            \n",
       "    .bar {\n",
       "      fill: steelblue;\n",
       "    }\n",
       "    .bar:hover {\n",
       "      fill: brown;\n",
       "    }\n",
       "    .axis--x path {\n",
       "      color: white;\n",
       "      display: none;\n",
       "    }\n",
       "\n",
       "        </style>\n",
       "        <div id=chart_2></div>\n",
       "        <script>\n",
       "            require.config({paths: {d3: \"https://d3js.org/d3.v4.min\"}});\n",
       "            require([\"d3\"], function(d3){ \n",
       "                \n",
       "var letters = [\"A\", \"B\", \"C\", \"D\", \"E\", \"F\", \"G\", \"H\", \"I\", \"J\", \"K\", \"L\", \"M\", \"N\", \"O\", \"P\", \"Q\", \"R\", \"S\", \"T\", \"U\", \"V\", \"W\", \"X\", \"Y\", \"Z\"];\n",
       "var dataset = [184.96871003441967, 299.9236067031387, 204.05133289253214, 196.50458235545645, 145.35347736254639, 228.37833458513254, 172.018868742662, 57.83114271393064, 175.58983744260183, 271.7552018955539, 102.2869588118216, 272.0156468938899, 4.931760429929055, 80.84564663731526, 211.03940478806396, 187.78306783688873, 3.2265883950560625, 225.4069992408054, 1.5187026454035135, 163.17281590172047, 156.06546386700103, 43.76983255733954, 75.295892116803, 43.25265875936001, 263.0598061578876, 202.2026488451687];\n",
       "var svgWidth = 800;\n",
       "var svgHeight = 300;\n",
       "\n",
       "var svg = d3.select('#chart_2')\n",
       "    .append(\"svg\")\n",
       "    .attr(\"width\", svgWidth)\n",
       "    .attr(\"height\", svgHeight)\n",
       "    .attr(\"class\", \"bar-chart\");\n",
       "       \n",
       "var barPadding = 5;\n",
       "var barWidth = (svgWidth / dataset.length);\n",
       "\n",
       "var barChart = svg.selectAll(\"rect\")\n",
       "    .data(dataset)\n",
       "    .enter()\n",
       "    .append(\"rect\")\n",
       "    .attr(\"class\", \"bar\")\n",
       "    .attr(\"y\", function(d) {\n",
       "        return svgHeight - d\n",
       "    })\n",
       "    .attr(\"height\", function(d) {\n",
       "        return d;\n",
       "    })\n",
       "    .attr(\"width\", barWidth - barPadding)\n",
       "    .attr(\"transform\", function (d, i) {\n",
       "         var translate = [barWidth * i, 0];\n",
       "         return \"translate(\"+ translate +\")\";\n",
       "    });\n",
       "\n",
       "            });\n",
       "        </script>\n",
       "        "
      ],
      "text/plain": [
       "<IPython.core.display.HTML object>"
      ]
     },
     "execution_count": 7,
     "metadata": {},
     "output_type": "execute_result"
    }
   ],
   "source": [
    "class NumpyEncoder(json.JSONEncoder):\n",
    "    def default(self, obj):\n",
    "        if isinstance(obj, np.ndarray):\n",
    "            return obj.tolist()\n",
    "        return json.JSONEncoder.default(self, obj)\n",
    "\n",
    "letters = [a for a in ascii_uppercase]\n",
    "data = 300 * np.random.random(size=len(letters))\n",
    "data_dict = {\n",
    "    'LETTERS': json.dumps(letters, cls=NumpyEncoder),\n",
    "    'DATA': json.dumps(data, cls=NumpyEncoder)\n",
    "}\n",
    "draw_d3(JS_CODE2, style=CSS, args=data_dict)"
   ]
  },
  {
   "cell_type": "code",
   "execution_count": 10,
   "metadata": {},
   "outputs": [
    {
     "data": {
      "text/html": [
       "\n",
       "        <style>\n",
       "            \n",
       "    .bar {\n",
       "      fill: steelblue;\n",
       "    }\n",
       "    .bar:hover {\n",
       "      fill: brown;\n",
       "    }\n",
       "    .axis--x path {\n",
       "      color: white;\n",
       "      display: none;\n",
       "    }\n",
       "\n",
       "        </style>\n",
       "        <div id=chart_4></div>\n",
       "        <script>\n",
       "            require.config({paths: {d3: \"https://d3js.org/d3.v4.min\"}});\n",
       "            require([\"d3\"], function(d3){ \n",
       "                \n",
       "var letters = [\"A\", \"B\", \"C\", \"D\", \"E\", \"F\", \"G\", \"H\", \"I\", \"J\", \"K\", \"L\", \"M\", \"N\", \"O\", \"P\", \"Q\", \"R\", \"S\", \"T\", \"U\", \"V\", \"W\", \"X\", \"Y\", \"Z\"];\n",
       "var dataset = [150.0, 187.3034830747282, 222.2630511152573, 252.68206588930332, 276.64918882530225, 292.658477444273, 299.70400926424077, 297.3430876093033, 285.72405786990294, 265.5769864163684, 238.167787843871, 205.21868290270166, 168.7999850346456, 131.20001496535434, 94.78131709729826, 61.832212156129, 34.4230135836316, 14.275942130097036, 2.6569123906967036, 0.29599073575926127, 7.341522555726954, 23.350811174697753, 47.317934110696754, 77.7369488847427, 112.69651692527182, 149.99999999999997];\n",
       "var svgWidth = 800;\n",
       "var svgHeight = 300;\n",
       "\n",
       "var svg = d3.select('#chart_4')\n",
       "    .append(\"svg\")\n",
       "    .attr(\"width\", svgWidth)\n",
       "    .attr(\"height\", svgHeight)\n",
       "    .attr(\"class\", \"bar-chart\");\n",
       "       \n",
       "var barPadding = 5;\n",
       "var barWidth = (svgWidth / dataset.length);\n",
       "\n",
       "var barChart = svg.selectAll(\"rect\")\n",
       "    .data(dataset)\n",
       "    .enter()\n",
       "    .append(\"rect\")\n",
       "    .attr(\"class\", \"bar\")\n",
       "    .attr(\"y\", function(d) {\n",
       "        return svgHeight - d\n",
       "    })\n",
       "    .attr(\"height\", function(d) {\n",
       "        return d;\n",
       "    })\n",
       "    .attr(\"width\", barWidth - barPadding)\n",
       "    .attr(\"transform\", function (d, i) {\n",
       "         var translate = [barWidth * i, 0];\n",
       "         return \"translate(\"+ translate +\")\";\n",
       "    });\n",
       "\n",
       "            });\n",
       "        </script>\n",
       "        "
      ],
      "text/plain": [
       "<IPython.core.display.HTML object>"
      ]
     },
     "execution_count": 10,
     "metadata": {},
     "output_type": "execute_result"
    }
   ],
   "source": [
    "data = 150 * np.sin(np.linspace(0, 2*np.pi, len(letters))) + 150\n",
    "data_dict = {\n",
    "    'LETTERS': json.dumps(letters, cls=NumpyEncoder),\n",
    "    'DATA': json.dumps(data, cls=NumpyEncoder)\n",
    "}\n",
    "draw_d3(JS_CODE2, style=CSS, args=data_dict)"
   ]
  },
  {
   "cell_type": "markdown",
   "metadata": {},
   "source": [
    "## Javascript to Python communication?\n",
    "\n",
    "Okay, so now we have a way to let Python \"talk\" to the Javascript - can we do the reverse?  "
   ]
  },
  {
   "cell_type": "code",
   "execution_count": 34,
   "metadata": {},
   "outputs": [
    {
     "data": {
      "application/javascript": [
       "var kernel = IPython.notebook.kernel;\n",
       "kernel.execute('success = True');"
      ],
      "text/plain": [
       "<IPython.core.display.Javascript object>"
      ]
     },
     "metadata": {},
     "output_type": "display_data"
    }
   ],
   "source": [
    "%%javascript\n",
    "var kernel = IPython.notebook.kernel;\n",
    "kernel.execute('success = True');"
   ]
  },
  {
   "cell_type": "code",
   "execution_count": 36,
   "metadata": {},
   "outputs": [
    {
     "data": {
      "text/html": [
       "<h1 style=\"font-size: 800%\">WE DID IT</h1>"
      ],
      "text/plain": [
       "<IPython.core.display.HTML object>"
      ]
     },
     "execution_count": 36,
     "metadata": {},
     "output_type": "execute_result"
    }
   ],
   "source": [
    "msg = \"WE DID IT\" if success else \"WE DIDN'T DO IT\"\n",
    "HTML('<h1 style=\"font-size: 800%\">{}</h1>'.format(msg))"
   ]
  },
  {
   "cell_type": "code",
   "execution_count": null,
   "metadata": {},
   "outputs": [],
   "source": []
  }
 ],
 "metadata": {
  "kernelspec": {
   "display_name": "all",
   "language": "python",
   "name": "all"
  },
  "language_info": {
   "codemirror_mode": {
    "name": "ipython",
    "version": 3
   },
   "file_extension": ".py",
   "mimetype": "text/x-python",
   "name": "python",
   "nbconvert_exporter": "python",
   "pygments_lexer": "ipython3",
   "version": "3.6.4"
  },
  "latex_envs": {
   "LaTeX_envs_menu_present": true,
   "autoclose": false,
   "autocomplete": false,
   "bibliofile": "biblio.bib",
   "cite_by": "apalike",
   "current_citInitial": 1,
   "eqLabelWithNumbers": true,
   "eqNumInitial": 1,
   "hotkeys": {
    "equation": "Ctrl-E",
    "itemize": "Ctrl-I"
   },
   "labels_anchors": false,
   "latex_user_defs": false,
   "report_style_numbering": false,
   "user_envs_cfg": false
  },
  "toc": {
   "nav_menu": {},
   "number_sections": true,
   "sideBar": true,
   "skip_h1_title": false,
   "title_cell": "Table of Contents",
   "title_sidebar": "Contents",
   "toc_cell": false,
   "toc_position": {},
   "toc_section_display": true,
   "toc_window_display": false
  },
  "varInspector": {
   "cols": {
    "lenName": 16,
    "lenType": 16,
    "lenVar": 40
   },
   "kernels_config": {
    "python": {
     "delete_cmd_postfix": "",
     "delete_cmd_prefix": "del ",
     "library": "var_list.py",
     "varRefreshCmd": "print(var_dic_list())"
    },
    "r": {
     "delete_cmd_postfix": ") ",
     "delete_cmd_prefix": "rm(",
     "library": "var_list.r",
     "varRefreshCmd": "cat(var_dic_list()) "
    }
   },
   "types_to_exclude": [
    "module",
    "function",
    "builtin_function_or_method",
    "instance",
    "_Feature"
   ],
   "window_display": false
  }
 },
 "nbformat": 4,
 "nbformat_minor": 2
}
